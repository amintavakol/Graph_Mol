{
 "cells": [
  {
   "cell_type": "code",
   "execution_count": 1,
   "metadata": {},
   "outputs": [],
   "source": [
    "#super basic Graph Classification on MUTAG\n",
    "#MUTAG is a collection of static graphs representing chemical compounds with \n",
    "#each graph associated with a binary label.\n",
    "#trying out some graph classification due to lack of node labels\n",
    "\n",
    "import pandas as pd\n",
    "import numpy as np\n",
    "\n",
    "import stellargraph as sg\n",
    "from stellargraph.mapper import PaddedGraphGenerator\n",
    "from stellargraph.layer import GCNSupervisedGraphClassification\n",
    "from stellargraph import StellarGraph\n",
    "\n",
    "from stellargraph import datasets\n",
    "\n",
    "from sklearn import model_selection\n",
    "from IPython.display import display, HTML\n",
    "\n",
    "from tensorflow.keras import Model\n",
    "from tensorflow.keras.optimizers import Adam\n",
    "from tensorflow.keras.layers import Dense\n",
    "from tensorflow.keras.losses import binary_crossentropy\n",
    "from tensorflow.keras.callbacks import EarlyStopping\n",
    "import tensorflow as tf\n",
    "import matplotlib.pyplot as plt"
   ]
  },
  {
   "cell_type": "code",
   "execution_count": 2,
   "metadata": {},
   "outputs": [
    {
     "data": {
      "text/html": [
       "Each graph represents a chemical compound and graph labels represent 'their mutagenic effect on a specific gram negative bacterium.'The dataset includes 188 graphs with 18 nodes and 20 edges on average for each graph. Graph nodes have 7 labels and each graph is labelled as belonging to 1 of 2 classes."
      ],
      "text/plain": [
       "<IPython.core.display.HTML object>"
      ]
     },
     "metadata": {},
     "output_type": "display_data"
    }
   ],
   "source": [
    "dataset = datasets.MUTAG()\n",
    "display(HTML(dataset.description))\n",
    "graphs, graph_labels = dataset.load()"
   ]
  },
  {
   "cell_type": "code",
   "execution_count": 3,
   "metadata": {},
   "outputs": [
    {
     "name": "stdout",
     "output_type": "stream",
     "text": [
      "StellarGraph: Undirected multigraph\n",
      " Nodes: 17, Edges: 38\n",
      "\n",
      " Node types:\n",
      "  default: [17]\n",
      "    Features: float32 vector, length 7\n",
      "    Edge types: default-default->default\n",
      "\n",
      " Edge types:\n",
      "    default-default->default: [38]\n",
      "        Weights: all 1 (default)\n",
      "        Features: none\n",
      "StellarGraph: Undirected multigraph\n",
      " Nodes: 13, Edges: 28\n",
      "\n",
      " Node types:\n",
      "  default: [13]\n",
      "    Features: float32 vector, length 7\n",
      "    Edge types: default-default->default\n",
      "\n",
      " Edge types:\n",
      "    default-default->default: [28]\n",
      "        Weights: all 1 (default)\n",
      "        Features: none\n"
     ]
    }
   ],
   "source": [
    "#each graph is a stellargraph object\n",
    "print(graphs[0].info())\n",
    "print(graphs[1].info())"
   ]
  },
  {
   "cell_type": "code",
   "execution_count": 4,
   "metadata": {},
   "outputs": [
    {
     "data": {
      "text/html": [
       "<div>\n",
       "<style scoped>\n",
       "    .dataframe tbody tr th:only-of-type {\n",
       "        vertical-align: middle;\n",
       "    }\n",
       "\n",
       "    .dataframe tbody tr th {\n",
       "        vertical-align: top;\n",
       "    }\n",
       "\n",
       "    .dataframe thead th {\n",
       "        text-align: right;\n",
       "    }\n",
       "</style>\n",
       "<table border=\"1\" class=\"dataframe\">\n",
       "  <thead>\n",
       "    <tr style=\"text-align: right;\">\n",
       "      <th></th>\n",
       "      <th>nodes</th>\n",
       "      <th>edges</th>\n",
       "    </tr>\n",
       "  </thead>\n",
       "  <tbody>\n",
       "    <tr>\n",
       "      <th>count</th>\n",
       "      <td>188.0</td>\n",
       "      <td>188.0</td>\n",
       "    </tr>\n",
       "    <tr>\n",
       "      <th>mean</th>\n",
       "      <td>17.9</td>\n",
       "      <td>39.6</td>\n",
       "    </tr>\n",
       "    <tr>\n",
       "      <th>std</th>\n",
       "      <td>4.6</td>\n",
       "      <td>11.4</td>\n",
       "    </tr>\n",
       "    <tr>\n",
       "      <th>min</th>\n",
       "      <td>10.0</td>\n",
       "      <td>20.0</td>\n",
       "    </tr>\n",
       "    <tr>\n",
       "      <th>25%</th>\n",
       "      <td>14.0</td>\n",
       "      <td>28.0</td>\n",
       "    </tr>\n",
       "    <tr>\n",
       "      <th>50%</th>\n",
       "      <td>17.5</td>\n",
       "      <td>38.0</td>\n",
       "    </tr>\n",
       "    <tr>\n",
       "      <th>75%</th>\n",
       "      <td>22.0</td>\n",
       "      <td>50.0</td>\n",
       "    </tr>\n",
       "    <tr>\n",
       "      <th>max</th>\n",
       "      <td>28.0</td>\n",
       "      <td>66.0</td>\n",
       "    </tr>\n",
       "  </tbody>\n",
       "</table>\n",
       "</div>"
      ],
      "text/plain": [
       "       nodes  edges\n",
       "count  188.0  188.0\n",
       "mean    17.9   39.6\n",
       "std      4.6   11.4\n",
       "min     10.0   20.0\n",
       "25%     14.0   28.0\n",
       "50%     17.5   38.0\n",
       "75%     22.0   50.0\n",
       "max     28.0   66.0"
      ]
     },
     "execution_count": 4,
     "metadata": {},
     "output_type": "execute_result"
    }
   ],
   "source": [
    "summary = pd.DataFrame([\n",
    "    (g.number_of_nodes(), g.number_of_edges()) for g in graphs],\n",
    "    columns=[\"nodes\", \"edges\"])\n",
    "summary.describe().round(1)"
   ]
  },
  {
   "cell_type": "code",
   "execution_count": 5,
   "metadata": {},
   "outputs": [],
   "source": [
    "graph_labels.value_counts().to_frame()\n",
    "#make labels 0, 1\n",
    "graph_labels = pd.get_dummies(graph_labels, drop_first=True)"
   ]
  },
  {
   "cell_type": "code",
   "execution_count": 6,
   "metadata": {},
   "outputs": [
    {
     "data": {
      "image/png": "[encoded data removed]",
      "text/plain": [
       "<Figure size 432x288 with 1 Axes>"
      ]
     },
     "metadata": {
      "needs_background": "light"
     },
     "output_type": "display_data"
    }
   ],
   "source": [
    "#The graph convolutional classification model \n",
    "#architecture is based on the one proposed in\n",
    "#Fake News Detection on Social Media using Geometric Deep Learning, F. Monti, F. Frasca, D. Eynard, D. Mannion, and M. M. Bronstein, ICLR 2019.\n",
    "#and applied on MUTAG in An End-to-End Deep Learning Architecture for Graph Classification, M. Zhang, Z. Cui, M. Neumann, Y. Chen, AAAI-18.\n",
    "\n",
    "from PIL import Image\n",
    "import requests\n",
    "import matplotlib.pyplot as plt\n",
    "\n",
    "url = \"https://stellargraph.readthedocs.io/en/stable/_images/graph_classification_architecture.png\"\n",
    "response = requests.get(url, stream=True)\n",
    "img = Image.open(response.raw)\n",
    "\n",
    "#The first two layers are Graph Convolutional \n",
    "#with each layer having 64 units and relu activations. \n",
    "#The next layer is a mean pooling layer where the learned node \n",
    "#representation are summarized to create a graph representation. \n",
    "#The graph representation is input to two fully connected layers \n",
    "#with 32 and 16 units respectively and relu activations. \n",
    "#The last layer is the output layer with a single unit and \n",
    "#sigmoid activation.\n",
    "\n",
    "plt.imshow(img)\n",
    "plt.show()"
   ]
  },
  {
   "cell_type": "code",
   "execution_count": 7,
   "metadata": {},
   "outputs": [],
   "source": [
    "generator = PaddedGraphGenerator(graphs)\n",
    "def create_model(generator):\n",
    "    \n",
    "    gc_model = GCNSupervisedGraphClassification(\n",
    "    layer_sizes=[64,64], activations=[\"relu\", \"relu\"],\n",
    "    generator=generator, dropout=0.5)\n",
    "    \n",
    "    x_in, x_out = gc_model.in_out_tensors()\n",
    "    whole_graph_predictions = Dense(units=32, activation=\"relu\")(x_out)\n",
    "    whole_graph_predictions = Dense(units=16, activation=\"relu\")(whole_graph_predictions)\n",
    "    whole_graph_predictions = Dense(units=1, activation=\"sigmoid\")(whole_graph_predictions)\n",
    "    \n",
    "    #Keras model\n",
    "    model = Model(inputs = x_in, outputs = whole_graph_predictions)\n",
    "    model.compile(optimizer=Adam(0.005), loss=binary_crossentropy, metrics=[\"acc\"])\n",
    "    \n",
    "    return model"
   ]
  },
  {
   "cell_type": "code",
   "execution_count": 8,
   "metadata": {},
   "outputs": [],
   "source": [
    "#do repeated cv \n",
    "epochs = 200\n",
    "folds = 10\n",
    "n_repeats = 5\n",
    "#do early stopping \n",
    "es = EarlyStopping(monitor=\"val_loss\", min_delta=0, \n",
    "                   patience=25, restore_best_weights=True)"
   ]
  },
  {
   "cell_type": "code",
   "execution_count": 11,
   "metadata": {},
   "outputs": [],
   "source": [
    "def train_on_fold(model, train_gen, test_gen, es, epochs):\n",
    "    \n",
    "    history = model.fit(train_gen, epochs=epochs,validation_data=test_gen,\n",
    "                       verbose = 0, callbacks=[es])\n",
    "    \n",
    "    # calculate performance on the test data and return along with history\n",
    "    test_metrics = model.evaluate(test_gen, verbose=0)\n",
    "    test_acc = test_metrics[model.metrics_names.index(\"acc\")]\n",
    "\n",
    "    return history, test_acc\n",
    "\n",
    "def get_generators(train_index, test_index, graph_labels, batch_size):\n",
    "    \n",
    "    train_gen = generator.flow(\n",
    "        train_index, targets=graph_labels.iloc[train_index].values, batch_size=batch_size\n",
    "    )\n",
    "    test_gen = generator.flow(\n",
    "        test_index, targets=graph_labels.iloc[test_index].values, batch_size=batch_size\n",
    "    )\n",
    "\n",
    "    return train_gen, test_gen"
   ]
  },
  {
   "cell_type": "code",
   "execution_count": 12,
   "metadata": {},
   "outputs": [
    {
     "name": "stdout",
     "output_type": "stream",
     "text": [
      "Training and evaluating on fold 1 out of 50...\n",
      "Training and evaluating on fold 2 out of 50...\n",
      "Training and evaluating on fold 3 out of 50...\n",
      "Training and evaluating on fold 4 out of 50...\n",
      "Training and evaluating on fold 5 out of 50...\n",
      "Training and evaluating on fold 6 out of 50...\n",
      "Training and evaluating on fold 7 out of 50...\n",
      "Training and evaluating on fold 8 out of 50...\n",
      "Training and evaluating on fold 9 out of 50...\n",
      "Training and evaluating on fold 10 out of 50...\n",
      "Training and evaluating on fold 11 out of 50...\n",
      "Training and evaluating on fold 12 out of 50...\n",
      "Training and evaluating on fold 13 out of 50...\n",
      "Training and evaluating on fold 14 out of 50...\n",
      "Training and evaluating on fold 15 out of 50...\n",
      "Training and evaluating on fold 16 out of 50...\n",
      "Training and evaluating on fold 17 out of 50...\n",
      "Training and evaluating on fold 18 out of 50...\n",
      "Training and evaluating on fold 19 out of 50...\n",
      "Training and evaluating on fold 20 out of 50...\n",
      "Training and evaluating on fold 21 out of 50...\n",
      "Training and evaluating on fold 22 out of 50...\n",
      "Training and evaluating on fold 23 out of 50...\n",
      "Training and evaluating on fold 24 out of 50...\n",
      "Training and evaluating on fold 25 out of 50...\n",
      "Training and evaluating on fold 26 out of 50...\n",
      "Training and evaluating on fold 27 out of 50...\n",
      "Training and evaluating on fold 28 out of 50...\n",
      "Training and evaluating on fold 29 out of 50...\n",
      "Training and evaluating on fold 30 out of 50...\n",
      "Training and evaluating on fold 31 out of 50...\n",
      "Training and evaluating on fold 32 out of 50...\n",
      "Training and evaluating on fold 33 out of 50...\n",
      "Training and evaluating on fold 34 out of 50...\n",
      "Training and evaluating on fold 35 out of 50...\n",
      "Training and evaluating on fold 36 out of 50...\n",
      "Training and evaluating on fold 37 out of 50...\n",
      "Training and evaluating on fold 38 out of 50...\n",
      "Training and evaluating on fold 39 out of 50...\n",
      "Training and evaluating on fold 40 out of 50...\n",
      "Training and evaluating on fold 41 out of 50...\n",
      "Training and evaluating on fold 42 out of 50...\n",
      "Training and evaluating on fold 43 out of 50...\n",
      "Training and evaluating on fold 44 out of 50...\n",
      "Training and evaluating on fold 45 out of 50...\n",
      "Training and evaluating on fold 46 out of 50...\n",
      "Training and evaluating on fold 47 out of 50...\n",
      "Training and evaluating on fold 48 out of 50...\n",
      "Training and evaluating on fold 49 out of 50...\n",
      "Training and evaluating on fold 50 out of 50...\n"
     ]
    }
   ],
   "source": [
    "test_accs = []\n",
    "\n",
    "stratified_folds = model_selection.RepeatedStratifiedKFold(\n",
    "    n_splits=folds, n_repeats=n_repeats\n",
    ").split(graph_labels, graph_labels)\n",
    "\n",
    "for i, (train_index, test_index) in enumerate(stratified_folds):\n",
    "    print(f\"Training and evaluating on fold {i+1} out of {folds * n_repeats}...\")\n",
    "    train_gen, test_gen = get_generators(\n",
    "        train_index, test_index, graph_labels, batch_size=30\n",
    "    )\n",
    "\n",
    "    model = create_model(generator)\n",
    "\n",
    "    history, acc = train_on_fold(model, train_gen, test_gen, es, epochs)\n",
    "\n",
    "    test_accs.append(acc)"
   ]
  },
  {
   "cell_type": "code",
   "execution_count": 13,
   "metadata": {},
   "outputs": [
    {
     "name": "stdout",
     "output_type": "stream",
     "text": [
      "Accuracy over all folds mean: 76.7% and std: 7.5%\n"
     ]
    }
   ],
   "source": [
    "print(\n",
    "    f\"Accuracy over all folds mean: {np.mean(test_accs)*100:.3}% and std: {np.std(test_accs)*100:.2}%\"\n",
    ")"
   ]
  },
  {
   "cell_type": "code",
   "execution_count": 14,
   "metadata": {},
   "outputs": [
    {
     "data": {
      "text/plain": [
       "Text(0, 0.5, 'Count')"
      ]
     },
     "execution_count": 14,
     "metadata": {},
     "output_type": "execute_result"
    },
    {
     "data": {
      "image/png": "[encoded data removed]",
      "text/plain": [
       "<Figure size 576x432 with 1 Axes>"
      ]
     },
     "metadata": {
      "needs_background": "light"
     },
     "output_type": "display_data"
    }
   ],
   "source": [
    "plt.figure(figsize=(8, 6))\n",
    "plt.hist(test_accs)\n",
    "plt.xlabel(\"Accuracy\")\n",
    "plt.ylabel(\"Count\")"
   ]
  },
  {
   "cell_type": "code",
   "execution_count": null,
   "metadata": {},
   "outputs": [],
   "source": []
  }
 ],
 "metadata": {
  "kernelspec": {
   "display_name": "Python 3",
   "language": "python",
   "name": "python3"
  },
  "language_info": {
   "codemirror_mode": {
    "name": "ipython",
    "version": 3
   },
   "file_extension": ".py",
   "mimetype": "text/x-python",
   "name": "python",
   "nbconvert_exporter": "python",
   "pygments_lexer": "ipython3",
   "version": "3.7.9"
  }
 },
 "nbformat": 4,
 "nbformat_minor": 4
}
