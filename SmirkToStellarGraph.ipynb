{
 "cells": [
  {
   "cell_type": "code",
   "execution_count": 1,
   "metadata": {},
   "outputs": [],
   "source": [
    "import logging\n",
    "from rdkit import Chem\n",
    "from stellargraph import StellarGraph\n",
    "\n",
    "import networkx as nx\n",
    "import numpy as np\n",
    "import six\n",
    "import pandas as pd\n"
   ]
  },
  {
   "cell_type": "code",
   "execution_count": 2,
   "metadata": {},
   "outputs": [],
   "source": [
    "def one_of_k_encoding(x, allowable_set):\n",
    "    if x not in allowable_set:\n",
    "        raise Exception(\n",
    "                \"input {0} not in allowable set{1}:\".format(x, allowable_set))\n",
    "    return list(map(lambda s: x == s, allowable_set))\n",
    "\n",
    "def one_of_k_encoding_unk(x, allowable_set):\n",
    "    \"\"\"Maps inputs not in the allowable set to the last element.\"\"\"\n",
    "    if x not in allowable_set:\n",
    "        x = allowable_set[-1]\n",
    "    return list(map(lambda s: x == s, allowable_set))\n",
    "\n",
    "def get_atom_features(atom):\n",
    "    return  1*(np.array(one_of_k_encoding_unk(atom.GetSymbol(),\n",
    "                                            ['C', 'N', 'O', 'S', 'F', 'Si', 'P', 'Cl',\n",
    "                                            'Br', 'Mg', 'Na',\n",
    "                                            'Ca', 'Fe', 'As', 'Al', 'I', 'B', 'V', 'K',\n",
    "                                            'Tl', 'Yb',\n",
    "                                            'Sb', 'Sn', 'Ag', 'Pd', 'Co', 'Se', 'Ti',\n",
    "                                            'Zn', 'H',  \n",
    "                                            'Li', 'Ge', 'Cu', 'Au', 'Ni', 'Cd', 'In',\n",
    "                                            'Mn','Zr', 'Cr', 'Pt', 'Hg', 'Pb', 'Unknown']) +\n",
    "                        \n",
    "                        one_of_k_encoding(atom.GetDegree(), [0, 1, 2, 3, 4, 5]) +\n",
    "                        \n",
    "                        one_of_k_encoding_unk(atom.GetTotalNumHs(), [0, 1, 2, 3, 4]) +\n",
    "                        \n",
    "                        one_of_k_encoding_unk(atom.GetImplicitValence(), [0, 1, 2, 3, 4, 5]) + \n",
    "                        \n",
    "                        [atom.GetIsAromatic()]))\n",
    "\n",
    "def get_bond_features(bond):\n",
    "    \n",
    "        bt = bond.GetBondType()\n",
    "        return 1*(np.array([bt == Chem.rdchem.BondType.SINGLE,\n",
    "                         bt == Chem.rdchem.BondType.DOUBLE,\n",
    "                         bt == Chem.rdchem.BondType.TRIPLE,\n",
    "                         bt == Chem.rdchem.BondType.AROMATIC,\n",
    "                         bond.GetIsConjugated(),\n",
    "                         bond.IsInRing()]))\n",
    "    \n",
    "def smirk_to_stellarGraph(reactans):\n",
    "    \n",
    "    no_of_atoms = reactans.GetNumAtoms()\n",
    "    source_list = []\n",
    "    target_list = []\n",
    "    node_feature_matrix = []\n",
    "    edge_feature_matrix = []\n",
    "    \n",
    "    for i in range(no_of_atoms):\n",
    "        \n",
    "        atom = reactans.GetAtomWithIdx(i)\n",
    "        node_feature_matrix.append(get_atom_features(atom))\n",
    "        \n",
    "        for neighbour in atom.GetNeighbors():\n",
    "        \n",
    "            target = neighbour.GetIdx()\n",
    "            source_list.append(i)\n",
    "            target_list.append(target)\n",
    "            bond = reactans.GetBondBetweenAtoms(i, target)\n",
    "            edge_feature_matrix.append(get_bond_features(bond))\n",
    "            \n",
    "    indirected_edges = pd.DataFrame({\"source\": source_list, \"target\": target_list})\n",
    "    \n",
    "    node_feature_matrix = np.array(node_feature_matrix)\n",
    "    edge_feature_matrix = np.array(edge_feature_matrix)\n",
    "    \n",
    "    node_feature_matrix = pd.DataFrame(node_feature_matrix)\n",
    "    edge_feature_matrix =  pd.DataFrame(edge_feature_matrix)\n",
    "    \n",
    "    indirected_features_edges = pd.concat([indirected_edges, edge_feature_matrix], axis=1)\n",
    "    molecularGraph = StellarGraph(node_feature_matrix, indirected_features_edges)\n",
    "    print(molecularGraph.info())"
   ]
  },
  {
   "cell_type": "code",
   "execution_count": 4,
   "metadata": {},
   "outputs": [
    {
     "name": "stdout",
     "output_type": "stream",
     "text": [
      "StellarGraph: Undirected multigraph\n",
      " Nodes: 11, Edges: 22\n",
      "\n",
      " Node types:\n",
      "  default: [11]\n",
      "    Features: float32 vector, length 62\n",
      "    Edge types: default-default->default\n",
      "\n",
      " Edge types:\n",
      "    default-default->default: [22]\n",
      "        Weights: all 1 (default)\n",
      "        Features: float32 vector, length 6\n"
     ]
    }
   ],
   "source": [
    "smile = \"CC1CCC[CH:20]1.C1CC[CH:10]C1>>CC1CCC[CH:20]1[CH:10]2CCCC2 10-10,20;20-10,20\"\n",
    "chunks = smile.split(\">>\")\n",
    "\n",
    "reactans = Chem.MolFromSmiles(chunks[0])\n",
    "smirk_to_stellarGraph(reactans)"
   ]
  },
  {
   "cell_type": "code",
   "execution_count": null,
   "metadata": {},
   "outputs": [],
   "source": []
  }
 ],
 "metadata": {
  "kernelspec": {
   "display_name": "Python 3",
   "language": "python",
   "name": "python3"
  },
  "language_info": {
   "codemirror_mode": {
    "name": "ipython",
    "version": 3
   },
   "file_extension": ".py",
   "mimetype": "text/x-python",
   "name": "python",
   "nbconvert_exporter": "python",
   "pygments_lexer": "ipython3",
   "version": "3.7.9"
  }
 },
 "nbformat": 4,
 "nbformat_minor": 4
}
