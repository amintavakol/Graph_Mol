{
 "cells": [
  {
   "cell_type": "code",
   "execution_count": 1,
   "metadata": {},
   "outputs": [],
   "source": [
    "import pandas as pd\n",
    "import os\n",
    "\n",
    "import stellargraph as sg\n",
    "from stellargraph.mapper import FullBatchNodeGenerator\n",
    "from stellargraph.layer import GCN\n",
    "\n",
    "from tensorflow.keras import layers, optimizers, losses, metrics, Model\n",
    "from sklearn import preprocessing, model_selection\n",
    "from IPython.display import display, HTML\n",
    "import matplotlib.pyplot as plt\n",
    "%matplotlib inline"
   ]
  },
  {
   "cell_type": "code",
   "execution_count": 2,
   "metadata": {},
   "outputs": [
    {
     "data": {
      "text/html": [
       "The Cora dataset consists of 2708 scientific publications classified into one of seven classes. The citation network consists of 5429 links. Each publication in the dataset is described by a 0/1-valued word vector indicating the absence/presence of the corresponding word from the dictionary. The dictionary consists of 1433 unique words."
      ],
      "text/plain": [
       "<IPython.core.display.HTML object>"
      ]
     },
     "metadata": {},
     "output_type": "display_data"
    }
   ],
   "source": [
    "dataset = sg.datasets.Cora()\n",
    "display(HTML(dataset.description))\n",
    "G, node_subjects = dataset.load()"
   ]
  },
  {
   "cell_type": "code",
   "execution_count": 3,
   "metadata": {},
   "outputs": [
    {
     "name": "stdout",
     "output_type": "stream",
     "text": [
      "StellarGraph: Undirected multigraph\n",
      " Nodes: 2708, Edges: 5429\n",
      "\n",
      " Node types:\n",
      "  paper: [2708]\n",
      "    Features: float32 vector, length 1433\n",
      "    Edge types: paper-cites->paper\n",
      "\n",
      " Edge types:\n",
      "    paper-cites->paper: [5429]\n",
      "        Weights: all 1 (default)\n",
      "        Features: none\n"
     ]
    }
   ],
   "source": [
    "print(G.info())"
   ]
  },
  {
   "cell_type": "code",
   "execution_count": 4,
   "metadata": {},
   "outputs": [
    {
     "data": {
      "text/html": [
       "<div>\n",
       "<style scoped>\n",
       "    .dataframe tbody tr th:only-of-type {\n",
       "        vertical-align: middle;\n",
       "    }\n",
       "\n",
       "    .dataframe tbody tr th {\n",
       "        vertical-align: top;\n",
       "    }\n",
       "\n",
       "    .dataframe thead th {\n",
       "        text-align: right;\n",
       "    }\n",
       "</style>\n",
       "<table border=\"1\" class=\"dataframe\">\n",
       "  <thead>\n",
       "    <tr style=\"text-align: right;\">\n",
       "      <th></th>\n",
       "      <th>subject</th>\n",
       "    </tr>\n",
       "  </thead>\n",
       "  <tbody>\n",
       "    <tr>\n",
       "      <th>Neural_Networks</th>\n",
       "      <td>818</td>\n",
       "    </tr>\n",
       "    <tr>\n",
       "      <th>Probabilistic_Methods</th>\n",
       "      <td>426</td>\n",
       "    </tr>\n",
       "    <tr>\n",
       "      <th>Genetic_Algorithms</th>\n",
       "      <td>418</td>\n",
       "    </tr>\n",
       "    <tr>\n",
       "      <th>Theory</th>\n",
       "      <td>351</td>\n",
       "    </tr>\n",
       "    <tr>\n",
       "      <th>Case_Based</th>\n",
       "      <td>298</td>\n",
       "    </tr>\n",
       "    <tr>\n",
       "      <th>Reinforcement_Learning</th>\n",
       "      <td>217</td>\n",
       "    </tr>\n",
       "    <tr>\n",
       "      <th>Rule_Learning</th>\n",
       "      <td>180</td>\n",
       "    </tr>\n",
       "  </tbody>\n",
       "</table>\n",
       "</div>"
      ],
      "text/plain": [
       "                        subject\n",
       "Neural_Networks             818\n",
       "Probabilistic_Methods       426\n",
       "Genetic_Algorithms          418\n",
       "Theory                      351\n",
       "Case_Based                  298\n",
       "Reinforcement_Learning      217\n",
       "Rule_Learning               180"
      ]
     },
     "execution_count": 4,
     "metadata": {},
     "output_type": "execute_result"
    }
   ],
   "source": [
    "node_subjects.value_counts().to_frame()"
   ]
  },
  {
   "cell_type": "code",
   "execution_count": 5,
   "metadata": {},
   "outputs": [],
   "source": [
    "train_subjects, test_subjects = model_selection.train_test_split(\n",
    "    node_subjects, train_size=140, test_size=None, stratify=node_subjects\n",
    ")\n",
    "val_subjects, test_subjects = model_selection.train_test_split(\n",
    "    test_subjects, train_size=500, test_size=None, stratify=test_subjects\n",
    ")\n",
    "train_subjects.value_counts().to_frame()\n",
    "\n",
    "target_encoding = preprocessing.LabelBinarizer()\n",
    "\n",
    "train_targets = target_encoding.fit_transform(train_subjects)\n",
    "val_targets = target_encoding.transform(val_subjects)\n",
    "test_targets = target_encoding.transform(test_subjects)\n"
   ]
  },
  {
   "cell_type": "code",
   "execution_count": 6,
   "metadata": {},
   "outputs": [
    {
     "name": "stdout",
     "output_type": "stream",
     "text": [
      "Using GCN (local pooling) filters...\n"
     ]
    }
   ],
   "source": [
    "generator = FullBatchNodeGenerator(G, method=\"gcn\")\n",
    "train_gen = generator.flow(train_subjects.index, train_targets)\n"
   ]
  },
  {
   "cell_type": "code",
   "execution_count": 7,
   "metadata": {},
   "outputs": [],
   "source": [
    "gcn = GCN(\n",
    "    layer_sizes=[16, 16], activations=[\"relu\", \"relu\"], generator=generator, dropout=0.5\n",
    ")\n",
    "x_inp, x_out = gcn.in_out_tensors()\n",
    "predictions = layers.Dense(units=train_targets.shape[1], activation=\"softmax\")(x_out)\n",
    "model = Model(inputs=x_inp, outputs=predictions)\n",
    "model.compile(\n",
    "    optimizer=optimizers.Adam(lr=0.01),\n",
    "    loss=losses.categorical_crossentropy,\n",
    "    metrics=[\"acc\"])"
   ]
  },
  {
   "cell_type": "code",
   "execution_count": 8,
   "metadata": {},
   "outputs": [],
   "source": [
    "val_gen = generator.flow(val_subjects.index, val_targets)\n",
    "from tensorflow.keras.callbacks import EarlyStopping\n",
    "\n",
    "es_callback = EarlyStopping(monitor=\"val_acc\", patience=50, restore_best_weights=True)"
   ]
  },
  {
   "cell_type": "code",
   "execution_count": 11,
   "metadata": {},
   "outputs": [
    {
     "name": "stdout",
     "output_type": "stream",
     "text": [
      "Epoch 1/200\n",
      "1/1 - 0s - loss: 1.9517 - acc: 0.1571 - val_loss: 1.9317 - val_acc: 0.1920\n",
      "Epoch 2/200\n",
      "1/1 - 0s - loss: 1.9249 - acc: 0.2071 - val_loss: 1.9126 - val_acc: 0.3160\n",
      "Epoch 3/200\n",
      "1/1 - 0s - loss: 1.8978 - acc: 0.2643 - val_loss: 1.8866 - val_acc: 0.3660\n",
      "Epoch 4/200\n",
      "1/1 - 0s - loss: 1.8479 - acc: 0.3643 - val_loss: 1.8496 - val_acc: 0.3900\n",
      "Epoch 5/200\n",
      "1/1 - 0s - loss: 1.8003 - acc: 0.4214 - val_loss: 1.8010 - val_acc: 0.4040\n",
      "Epoch 6/200\n",
      "1/1 - 0s - loss: 1.7263 - acc: 0.4286 - val_loss: 1.7430 - val_acc: 0.4240\n",
      "Epoch 7/200\n",
      "1/1 - 0s - loss: 1.6458 - acc: 0.4357 - val_loss: 1.6798 - val_acc: 0.4280\n",
      "Epoch 8/200\n",
      "1/1 - 0s - loss: 1.5535 - acc: 0.4714 - val_loss: 1.6118 - val_acc: 0.4360\n",
      "Epoch 9/200\n",
      "1/1 - 0s - loss: 1.4443 - acc: 0.4714 - val_loss: 1.5433 - val_acc: 0.4380\n",
      "Epoch 10/200\n",
      "1/1 - 0s - loss: 1.3761 - acc: 0.4786 - val_loss: 1.4816 - val_acc: 0.4320\n",
      "Epoch 11/200\n",
      "1/1 - 0s - loss: 1.2996 - acc: 0.4500 - val_loss: 1.4287 - val_acc: 0.4340\n",
      "Epoch 12/200\n",
      "1/1 - 0s - loss: 1.2642 - acc: 0.4500 - val_loss: 1.3803 - val_acc: 0.4500\n",
      "Epoch 13/200\n",
      "1/1 - 0s - loss: 1.2083 - acc: 0.4643 - val_loss: 1.3300 - val_acc: 0.4880\n",
      "Epoch 14/200\n",
      "1/1 - 0s - loss: 1.1403 - acc: 0.5357 - val_loss: 1.2824 - val_acc: 0.5260\n",
      "Epoch 15/200\n",
      "1/1 - 0s - loss: 1.0499 - acc: 0.5500 - val_loss: 1.2377 - val_acc: 0.5540\n",
      "Epoch 16/200\n",
      "1/1 - 0s - loss: 0.9904 - acc: 0.5857 - val_loss: 1.1959 - val_acc: 0.5840\n",
      "Epoch 17/200\n",
      "1/1 - 0s - loss: 0.9395 - acc: 0.7000 - val_loss: 1.1557 - val_acc: 0.6140\n",
      "Epoch 18/200\n",
      "1/1 - 0s - loss: 0.9156 - acc: 0.6714 - val_loss: 1.1165 - val_acc: 0.6460\n",
      "Epoch 19/200\n",
      "1/1 - 0s - loss: 0.8155 - acc: 0.7214 - val_loss: 1.0794 - val_acc: 0.6720\n",
      "Epoch 20/200\n",
      "1/1 - 0s - loss: 0.7359 - acc: 0.8000 - val_loss: 1.0400 - val_acc: 0.6780\n",
      "Epoch 21/200\n",
      "1/1 - 0s - loss: 0.6862 - acc: 0.7857 - val_loss: 0.9968 - val_acc: 0.6940\n",
      "Epoch 22/200\n",
      "1/1 - 0s - loss: 0.6366 - acc: 0.8143 - val_loss: 0.9516 - val_acc: 0.7080\n",
      "Epoch 23/200\n",
      "1/1 - 0s - loss: 0.5571 - acc: 0.8500 - val_loss: 0.9071 - val_acc: 0.7360\n",
      "Epoch 24/200\n",
      "1/1 - 0s - loss: 0.5942 - acc: 0.8357 - val_loss: 0.8663 - val_acc: 0.7460\n",
      "Epoch 25/200\n",
      "1/1 - 0s - loss: 0.4994 - acc: 0.8357 - val_loss: 0.8309 - val_acc: 0.7600\n",
      "Epoch 26/200\n",
      "1/1 - 0s - loss: 0.4338 - acc: 0.9000 - val_loss: 0.8025 - val_acc: 0.7700\n",
      "Epoch 27/200\n",
      "1/1 - 0s - loss: 0.4203 - acc: 0.8714 - val_loss: 0.7791 - val_acc: 0.7740\n",
      "Epoch 28/200\n",
      "1/1 - 0s - loss: 0.4092 - acc: 0.8857 - val_loss: 0.7615 - val_acc: 0.7700\n",
      "Epoch 29/200\n",
      "1/1 - 0s - loss: 0.3000 - acc: 0.9357 - val_loss: 0.7460 - val_acc: 0.7760\n",
      "Epoch 30/200\n",
      "1/1 - 0s - loss: 0.3143 - acc: 0.9357 - val_loss: 0.7355 - val_acc: 0.7800\n",
      "Epoch 31/200\n",
      "1/1 - 0s - loss: 0.3222 - acc: 0.9286 - val_loss: 0.7315 - val_acc: 0.7840\n",
      "Epoch 32/200\n",
      "1/1 - 0s - loss: 0.2799 - acc: 0.9429 - val_loss: 0.7286 - val_acc: 0.7840\n",
      "Epoch 33/200\n",
      "1/1 - 0s - loss: 0.2907 - acc: 0.9286 - val_loss: 0.7325 - val_acc: 0.7880\n",
      "Epoch 34/200\n",
      "1/1 - 0s - loss: 0.2358 - acc: 0.9357 - val_loss: 0.7363 - val_acc: 0.7860\n",
      "Epoch 35/200\n",
      "1/1 - 0s - loss: 0.1826 - acc: 0.9571 - val_loss: 0.7375 - val_acc: 0.7860\n",
      "Epoch 36/200\n",
      "1/1 - 0s - loss: 0.1744 - acc: 0.9643 - val_loss: 0.7424 - val_acc: 0.7920\n",
      "Epoch 37/200\n",
      "1/1 - 0s - loss: 0.1691 - acc: 0.9500 - val_loss: 0.7486 - val_acc: 0.7920\n",
      "Epoch 38/200\n",
      "1/1 - 0s - loss: 0.1801 - acc: 0.9500 - val_loss: 0.7540 - val_acc: 0.7940\n",
      "Epoch 39/200\n",
      "1/1 - 0s - loss: 0.1736 - acc: 0.9571 - val_loss: 0.7582 - val_acc: 0.7960\n",
      "Epoch 40/200\n",
      "1/1 - 0s - loss: 0.1776 - acc: 0.9357 - val_loss: 0.7619 - val_acc: 0.8020\n",
      "Epoch 41/200\n",
      "1/1 - 0s - loss: 0.2232 - acc: 0.9071 - val_loss: 0.7668 - val_acc: 0.7980\n",
      "Epoch 42/200\n",
      "1/1 - 0s - loss: 0.1131 - acc: 0.9500 - val_loss: 0.7735 - val_acc: 0.7960\n",
      "Epoch 43/200\n",
      "1/1 - 0s - loss: 0.0983 - acc: 0.9643 - val_loss: 0.7815 - val_acc: 0.7940\n",
      "Epoch 44/200\n",
      "1/1 - 0s - loss: 0.1033 - acc: 0.9786 - val_loss: 0.7907 - val_acc: 0.7940\n",
      "Epoch 45/200\n",
      "1/1 - 0s - loss: 0.1373 - acc: 0.9571 - val_loss: 0.8049 - val_acc: 0.7820\n",
      "Epoch 46/200\n",
      "1/1 - 0s - loss: 0.1041 - acc: 0.9571 - val_loss: 0.8200 - val_acc: 0.7860\n",
      "Epoch 47/200\n",
      "1/1 - 0s - loss: 0.0900 - acc: 0.9714 - val_loss: 0.8325 - val_acc: 0.7840\n",
      "Epoch 48/200\n",
      "1/1 - 0s - loss: 0.0894 - acc: 0.9643 - val_loss: 0.8425 - val_acc: 0.7800\n",
      "Epoch 49/200\n",
      "1/1 - 0s - loss: 0.0844 - acc: 0.9643 - val_loss: 0.8522 - val_acc: 0.7780\n",
      "Epoch 50/200\n",
      "1/1 - 0s - loss: 0.0659 - acc: 1.0000 - val_loss: 0.8615 - val_acc: 0.7800\n",
      "Epoch 51/200\n",
      "1/1 - 0s - loss: 0.0747 - acc: 0.9857 - val_loss: 0.8738 - val_acc: 0.7920\n",
      "Epoch 52/200\n",
      "1/1 - 0s - loss: 0.0793 - acc: 0.9929 - val_loss: 0.8849 - val_acc: 0.7900\n",
      "Epoch 53/200\n",
      "1/1 - 0s - loss: 0.0891 - acc: 0.9857 - val_loss: 0.8930 - val_acc: 0.7920\n",
      "Epoch 54/200\n",
      "1/1 - 0s - loss: 0.0562 - acc: 0.9857 - val_loss: 0.9000 - val_acc: 0.7920\n",
      "Epoch 55/200\n",
      "1/1 - 0s - loss: 0.0489 - acc: 0.9929 - val_loss: 0.9083 - val_acc: 0.7920\n",
      "Epoch 56/200\n",
      "1/1 - 0s - loss: 0.0918 - acc: 0.9857 - val_loss: 0.9145 - val_acc: 0.7900\n",
      "Epoch 57/200\n",
      "1/1 - 0s - loss: 0.0844 - acc: 0.9714 - val_loss: 0.9177 - val_acc: 0.7920\n",
      "Epoch 58/200\n",
      "1/1 - 0s - loss: 0.0501 - acc: 0.9857 - val_loss: 0.9225 - val_acc: 0.7880\n",
      "Epoch 59/200\n",
      "1/1 - 0s - loss: 0.0473 - acc: 0.9929 - val_loss: 0.9287 - val_acc: 0.7880\n",
      "Epoch 60/200\n",
      "1/1 - 0s - loss: 0.0785 - acc: 0.9786 - val_loss: 0.9364 - val_acc: 0.7880\n",
      "Epoch 61/200\n",
      "1/1 - 0s - loss: 0.0367 - acc: 1.0000 - val_loss: 0.9454 - val_acc: 0.7880\n",
      "Epoch 62/200\n",
      "1/1 - 0s - loss: 0.0713 - acc: 0.9786 - val_loss: 0.9580 - val_acc: 0.7880\n",
      "Epoch 63/200\n",
      "1/1 - 0s - loss: 0.0963 - acc: 0.9571 - val_loss: 0.9622 - val_acc: 0.7900\n",
      "Epoch 64/200\n",
      "1/1 - 0s - loss: 0.0809 - acc: 0.9857 - val_loss: 0.9679 - val_acc: 0.7880\n",
      "Epoch 65/200\n",
      "1/1 - 0s - loss: 0.0594 - acc: 0.9786 - val_loss: 0.9728 - val_acc: 0.7920\n",
      "Epoch 66/200\n",
      "1/1 - 0s - loss: 0.0278 - acc: 0.9929 - val_loss: 0.9785 - val_acc: 0.7900\n",
      "Epoch 67/200\n",
      "1/1 - 0s - loss: 0.0459 - acc: 0.9786 - val_loss: 0.9800 - val_acc: 0.7920\n",
      "Epoch 68/200\n",
      "1/1 - 0s - loss: 0.0426 - acc: 0.9857 - val_loss: 0.9789 - val_acc: 0.7920\n",
      "Epoch 69/200\n",
      "1/1 - 0s - loss: 0.0545 - acc: 0.9786 - val_loss: 0.9809 - val_acc: 0.7900\n",
      "Epoch 70/200\n",
      "1/1 - 0s - loss: 0.0258 - acc: 1.0000 - val_loss: 0.9831 - val_acc: 0.7920\n",
      "Epoch 71/200\n",
      "1/1 - 0s - loss: 0.0361 - acc: 0.9857 - val_loss: 0.9858 - val_acc: 0.7940\n",
      "Epoch 72/200\n",
      "1/1 - 0s - loss: 0.0419 - acc: 0.9857 - val_loss: 0.9902 - val_acc: 0.7920\n",
      "Epoch 73/200\n",
      "1/1 - 0s - loss: 0.0269 - acc: 1.0000 - val_loss: 0.9999 - val_acc: 0.7920\n",
      "Epoch 74/200\n",
      "1/1 - 0s - loss: 0.0682 - acc: 0.9857 - val_loss: 1.0069 - val_acc: 0.7920\n",
      "Epoch 75/200\n",
      "1/1 - 0s - loss: 0.0278 - acc: 0.9929 - val_loss: 1.0101 - val_acc: 0.7920\n",
      "Epoch 76/200\n",
      "1/1 - 0s - loss: 0.0371 - acc: 0.9786 - val_loss: 1.0156 - val_acc: 0.7900\n",
      "Epoch 77/200\n",
      "1/1 - 0s - loss: 0.0523 - acc: 0.9857 - val_loss: 1.0242 - val_acc: 0.7880\n",
      "Epoch 78/200\n",
      "1/1 - 0s - loss: 0.0408 - acc: 0.9929 - val_loss: 1.0387 - val_acc: 0.7860\n",
      "Epoch 79/200\n",
      "1/1 - 0s - loss: 0.0436 - acc: 0.9857 - val_loss: 1.0503 - val_acc: 0.7920\n",
      "Epoch 80/200\n",
      "1/1 - 0s - loss: 0.0423 - acc: 0.9857 - val_loss: 1.0527 - val_acc: 0.7920\n",
      "Epoch 81/200\n",
      "1/1 - 0s - loss: 0.0283 - acc: 0.9929 - val_loss: 1.0542 - val_acc: 0.7900\n",
      "Epoch 82/200\n",
      "1/1 - 0s - loss: 0.0450 - acc: 0.9786 - val_loss: 1.0531 - val_acc: 0.7940\n",
      "Epoch 83/200\n",
      "1/1 - 0s - loss: 0.0399 - acc: 0.9929 - val_loss: 1.0514 - val_acc: 0.7940\n",
      "Epoch 84/200\n",
      "1/1 - 0s - loss: 0.0547 - acc: 0.9857 - val_loss: 1.0526 - val_acc: 0.8000\n",
      "Epoch 85/200\n",
      "1/1 - 0s - loss: 0.0217 - acc: 0.9929 - val_loss: 1.0568 - val_acc: 0.7880\n",
      "Epoch 86/200\n",
      "1/1 - 0s - loss: 0.0308 - acc: 1.0000 - val_loss: 1.0640 - val_acc: 0.7840\n",
      "Epoch 87/200\n",
      "1/1 - 0s - loss: 0.0188 - acc: 0.9929 - val_loss: 1.0726 - val_acc: 0.7860\n",
      "Epoch 88/200\n",
      "1/1 - 0s - loss: 0.0262 - acc: 0.9929 - val_loss: 1.0781 - val_acc: 0.7900\n",
      "Epoch 89/200\n",
      "1/1 - 0s - loss: 0.0457 - acc: 0.9857 - val_loss: 1.0749 - val_acc: 0.7900\n",
      "Epoch 90/200\n",
      "1/1 - 0s - loss: 0.0506 - acc: 0.9857 - val_loss: 1.0715 - val_acc: 0.7900\n"
     ]
    }
   ],
   "source": [
    "history = model.fit(\n",
    "    train_gen,\n",
    "    epochs=200,\n",
    "    validation_data=val_gen,\n",
    "    verbose=2,\n",
    "    shuffle=False,  \n",
    "    callbacks=[es_callback])"
   ]
  },
  {
   "cell_type": "code",
   "execution_count": 12,
   "metadata": {},
   "outputs": [
    {
     "data": {
      "image/png": "[encoded data removed]",
      "text/plain": [
       "<Figure size 504x576 with 2 Axes>"
      ]
     },
     "metadata": {
      "needs_background": "light"
     },
     "output_type": "display_data"
    }
   ],
   "source": [
    "sg.utils.plot_history(history)\n"
   ]
  },
  {
   "cell_type": "code",
   "execution_count": 13,
   "metadata": {},
   "outputs": [
    {
     "name": "stdout",
     "output_type": "stream",
     "text": [
      "1/1 [==============================] - 0s 1ms/step - loss: 0.7951 - acc: 0.7911\n",
      "\n",
      "Test Set Metrics:\n",
      "\tloss: 0.7951\n",
      "\tacc: 0.7911\n"
     ]
    }
   ],
   "source": [
    "test_gen = generator.flow(test_subjects.index, test_targets)\n",
    "test_metrics = model.evaluate(test_gen)\n",
    "print(\"\\nTest Set Metrics:\")\n",
    "for name, val in zip(model.metrics_names, test_metrics):\n",
    "    print(\"\\t{}: {:0.4f}\".format(name, val))"
   ]
  },
  {
   "cell_type": "code",
   "execution_count": 14,
   "metadata": {},
   "outputs": [],
   "source": [
    "all_nodes = node_subjects.index\n",
    "all_gen = generator.flow(all_nodes)\n",
    "all_predictions = model.predict(all_gen)\n",
    "node_predictions = target_encoding.inverse_transform(all_predictions.squeeze())\n"
   ]
  },
  {
   "cell_type": "code",
   "execution_count": 15,
   "metadata": {},
   "outputs": [
    {
     "data": {
      "text/html": [
       "<div>\n",
       "<style scoped>\n",
       "    .dataframe tbody tr th:only-of-type {\n",
       "        vertical-align: middle;\n",
       "    }\n",
       "\n",
       "    .dataframe tbody tr th {\n",
       "        vertical-align: top;\n",
       "    }\n",
       "\n",
       "    .dataframe thead th {\n",
       "        text-align: right;\n",
       "    }\n",
       "</style>\n",
       "<table border=\"1\" class=\"dataframe\">\n",
       "  <thead>\n",
       "    <tr style=\"text-align: right;\">\n",
       "      <th></th>\n",
       "      <th>Predicted</th>\n",
       "      <th>True</th>\n",
       "    </tr>\n",
       "  </thead>\n",
       "  <tbody>\n",
       "    <tr>\n",
       "      <th>31336</th>\n",
       "      <td>Neural_Networks</td>\n",
       "      <td>Neural_Networks</td>\n",
       "    </tr>\n",
       "    <tr>\n",
       "      <th>1061127</th>\n",
       "      <td>Rule_Learning</td>\n",
       "      <td>Rule_Learning</td>\n",
       "    </tr>\n",
       "    <tr>\n",
       "      <th>1106406</th>\n",
       "      <td>Reinforcement_Learning</td>\n",
       "      <td>Reinforcement_Learning</td>\n",
       "    </tr>\n",
       "    <tr>\n",
       "      <th>13195</th>\n",
       "      <td>Reinforcement_Learning</td>\n",
       "      <td>Reinforcement_Learning</td>\n",
       "    </tr>\n",
       "    <tr>\n",
       "      <th>37879</th>\n",
       "      <td>Probabilistic_Methods</td>\n",
       "      <td>Probabilistic_Methods</td>\n",
       "    </tr>\n",
       "    <tr>\n",
       "      <th>1126012</th>\n",
       "      <td>Probabilistic_Methods</td>\n",
       "      <td>Probabilistic_Methods</td>\n",
       "    </tr>\n",
       "    <tr>\n",
       "      <th>1107140</th>\n",
       "      <td>Genetic_Algorithms</td>\n",
       "      <td>Theory</td>\n",
       "    </tr>\n",
       "    <tr>\n",
       "      <th>1102850</th>\n",
       "      <td>Neural_Networks</td>\n",
       "      <td>Neural_Networks</td>\n",
       "    </tr>\n",
       "    <tr>\n",
       "      <th>31349</th>\n",
       "      <td>Neural_Networks</td>\n",
       "      <td>Neural_Networks</td>\n",
       "    </tr>\n",
       "    <tr>\n",
       "      <th>1106418</th>\n",
       "      <td>Theory</td>\n",
       "      <td>Theory</td>\n",
       "    </tr>\n",
       "    <tr>\n",
       "      <th>1123188</th>\n",
       "      <td>Neural_Networks</td>\n",
       "      <td>Neural_Networks</td>\n",
       "    </tr>\n",
       "    <tr>\n",
       "      <th>1128990</th>\n",
       "      <td>Genetic_Algorithms</td>\n",
       "      <td>Genetic_Algorithms</td>\n",
       "    </tr>\n",
       "    <tr>\n",
       "      <th>109323</th>\n",
       "      <td>Probabilistic_Methods</td>\n",
       "      <td>Probabilistic_Methods</td>\n",
       "    </tr>\n",
       "    <tr>\n",
       "      <th>217139</th>\n",
       "      <td>Rule_Learning</td>\n",
       "      <td>Case_Based</td>\n",
       "    </tr>\n",
       "    <tr>\n",
       "      <th>31353</th>\n",
       "      <td>Neural_Networks</td>\n",
       "      <td>Neural_Networks</td>\n",
       "    </tr>\n",
       "    <tr>\n",
       "      <th>32083</th>\n",
       "      <td>Neural_Networks</td>\n",
       "      <td>Neural_Networks</td>\n",
       "    </tr>\n",
       "    <tr>\n",
       "      <th>1126029</th>\n",
       "      <td>Reinforcement_Learning</td>\n",
       "      <td>Reinforcement_Learning</td>\n",
       "    </tr>\n",
       "    <tr>\n",
       "      <th>1118017</th>\n",
       "      <td>Neural_Networks</td>\n",
       "      <td>Neural_Networks</td>\n",
       "    </tr>\n",
       "    <tr>\n",
       "      <th>49482</th>\n",
       "      <td>Neural_Networks</td>\n",
       "      <td>Neural_Networks</td>\n",
       "    </tr>\n",
       "    <tr>\n",
       "      <th>753265</th>\n",
       "      <td>Neural_Networks</td>\n",
       "      <td>Neural_Networks</td>\n",
       "    </tr>\n",
       "  </tbody>\n",
       "</table>\n",
       "</div>"
      ],
      "text/plain": [
       "                      Predicted                    True\n",
       "31336           Neural_Networks         Neural_Networks\n",
       "1061127           Rule_Learning           Rule_Learning\n",
       "1106406  Reinforcement_Learning  Reinforcement_Learning\n",
       "13195    Reinforcement_Learning  Reinforcement_Learning\n",
       "37879     Probabilistic_Methods   Probabilistic_Methods\n",
       "1126012   Probabilistic_Methods   Probabilistic_Methods\n",
       "1107140      Genetic_Algorithms                  Theory\n",
       "1102850         Neural_Networks         Neural_Networks\n",
       "31349           Neural_Networks         Neural_Networks\n",
       "1106418                  Theory                  Theory\n",
       "1123188         Neural_Networks         Neural_Networks\n",
       "1128990      Genetic_Algorithms      Genetic_Algorithms\n",
       "109323    Probabilistic_Methods   Probabilistic_Methods\n",
       "217139            Rule_Learning              Case_Based\n",
       "31353           Neural_Networks         Neural_Networks\n",
       "32083           Neural_Networks         Neural_Networks\n",
       "1126029  Reinforcement_Learning  Reinforcement_Learning\n",
       "1118017         Neural_Networks         Neural_Networks\n",
       "49482           Neural_Networks         Neural_Networks\n",
       "753265          Neural_Networks         Neural_Networks"
      ]
     },
     "execution_count": 15,
     "metadata": {},
     "output_type": "execute_result"
    }
   ],
   "source": [
    "df = pd.DataFrame({\"Predicted\": node_predictions, \"True\": node_subjects})\n",
    "df.head(20)"
   ]
  },
  {
   "cell_type": "code",
   "execution_count": 16,
   "metadata": {},
   "outputs": [
    {
     "data": {
      "text/plain": [
       "(1, 2708, 16)"
      ]
     },
     "execution_count": 16,
     "metadata": {},
     "output_type": "execute_result"
    }
   ],
   "source": [
    "embedding_model = Model(inputs=x_inp, outputs=x_out)\n",
    "emb = embedding_model.predict(all_gen)\n",
    "emb.shape"
   ]
  },
  {
   "cell_type": "code",
   "execution_count": null,
   "metadata": {},
   "outputs": [],
   "source": [
    "from sklearn.decomposition import PCA\n",
    "from sklearn.manifold import TSNE\n",
    "\n",
    "transform = TSNE  # or PCA\n",
    "X = emb.squeeze(0)"
   ]
  }
 ],
 "metadata": {
  "kernelspec": {
   "display_name": "Python 3",
   "language": "python",
   "name": "python3"
  },
  "language_info": {
   "codemirror_mode": {
    "name": "ipython",
    "version": 3
   },
   "file_extension": ".py",
   "mimetype": "text/x-python",
   "name": "python",
   "nbconvert_exporter": "python",
   "pygments_lexer": "ipython3",
   "version": "3.7.9"
  }
 },
 "nbformat": 4,
 "nbformat_minor": 4
}
